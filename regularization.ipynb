{
  "nbformat": 4,
  "nbformat_minor": 0,
  "metadata": {
    "colab": {
      "name": "regularization",
      "provenance": [],
      "collapsed_sections": []
    },
    "kernelspec": {
      "name": "python3",
      "display_name": "Python 3"
    }
  },
  "cells": [
    {
      "cell_type": "code",
      "metadata": {
        "colab": {
          "base_uri": "https://localhost:8080/"
        },
        "id": "S0fi4cYoCdbL",
        "outputId": "89f79275-267e-4315-8561-8d2485b268ed"
      },
      "source": [
        "import pandas as pd \r\n",
        "data = pd.read_csv('sale data1.csv') \r\n",
        "X=data.iloc[:,:-1]\r\n",
        "y=data['price'] \r\n",
        "from sklearn.model_selection import train_test_split, cross_val_score \r\n",
        "X_train, X_test, y_train, y_test = train_test_split(X, y, test_size = 0.25) \r\n",
        "from sklearn.linear_model import LinearRegression, Ridge, Lasso \r\n",
        "linearModel = LinearRegression() \r\n",
        "linearModel.fit(X_train, y_train) \r\n",
        "print(linearModel.score(X_test, y_test)) #0.6360101704497012\r\n",
        "ridgeModelChosen = Ridge(alpha = 2) \r\n",
        "ridgeModelChosen.fit(X_train, y_train) \r\n",
        "print(ridgeModelChosen.score(X_test, y_test)) #\r\n",
        "lassoModelChosen = Lasso(alpha = 2, tol = 0.0925) \r\n",
        "lassoModelChosen.fit(X_train, y_train) \r\n",
        "print(lassoModelChosen.score(X_test, y_test))#0.6116953770547597\r\n"
      ],
      "execution_count": null,
      "outputs": [
        {
          "output_type": "stream",
          "text": [
            "0.6042953618754282\n",
            "0.604287580579109\n",
            "0.6042961105703281\n"
          ],
          "name": "stdout"
        }
      ]
    }
  ]
}